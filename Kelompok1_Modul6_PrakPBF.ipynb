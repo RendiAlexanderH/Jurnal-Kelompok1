{
  "nbformat": 4,
  "nbformat_minor": 0,
  "metadata": {
    "colab": {
      "provenance": []
    },
    "kernelspec": {
      "name": "python3",
      "display_name": "Python 3"
    },
    "language_info": {
      "name": "python"
    }
  },
  "cells": [
    {
      "cell_type": "code",
      "source": [
        "def add(x, y):\n",
        "  return x + y\n",
        "\n",
        "def subtract(x, y):\n",
        "  return x - y\n",
        "\n",
        "def apply_binary_operation(operation, x, y):\n",
        "  return operation(x, y)\n",
        "# Pemanggilan menggunkan hinger order function\n",
        "result = apply_binary_operation(add, 5, 3)\n",
        "print(result)\n",
        "\n",
        "result = apply_binary_operation(subtract, 10, 2)\n",
        "print(result)\n"
      ],
      "metadata": {
        "colab": {
          "base_uri": "https://localhost:8080/"
        },
        "id": "h0j8Zhd7wqhG",
        "outputId": "458b8ae2-1b72-4da2-923b-dcc834d1bf9b"
      },
      "execution_count": 19,
      "outputs": [
        {
          "output_type": "stream",
          "name": "stdout",
          "text": [
            "8\n",
            "8\n"
          ]
        }
      ]
    }
  ]
}