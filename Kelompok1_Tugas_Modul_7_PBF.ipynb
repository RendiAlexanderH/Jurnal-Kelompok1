{
  "cells": [
    {
      "cell_type": "markdown",
      "metadata": {
        "id": "dva5Az3EN83Z"
      },
      "source": [
        "## KELOMPOK 1"
      ]
    },
    {
      "cell_type": "markdown",
      "metadata": {
        "id": "ENGTrnmUN83e"
      },
      "source": [
        "# Tugas Kelompok"
      ]
    },
    {
      "cell_type": "markdown",
      "metadata": {
        "id": "bFQotR4fN83g"
      },
      "source": [
        "Download data disini :"
      ]
    },
    {
      "cell_type": "markdown",
      "metadata": {
        "id": "j9zder9tN83g"
      },
      "source": [
        "https://drive.google.com/file/d/1yRYkjsF9CuC4RXueZQCHuJnXRSXliBjS/view?usp=sharing"
      ]
    },
    {
      "cell_type": "markdown",
      "source": [
        "## Loading Dataset"
      ],
      "metadata": {
        "id": "5RwvDaU1OSL2"
      }
    },
    {
      "cell_type": "code",
      "source": [
        "import pandas as pd\n",
        "\n",
        "# Path ke file Excel\n",
        "data = '/content/911_Calls_for_Service_(Last_30_Days).csv'\n",
        "\n",
        "# Baca file CSV (bukan Excel) menggunakan pd.read_csv\n",
        "dataku = pd.read_csv(data)\n",
        "\n",
        "# Tampilkan lima baris pertama data\n",
        "print(dataku.head())\n"
      ],
      "metadata": {
        "colab": {
          "base_uri": "https://localhost:8080/"
        },
        "id": "v10gA779OdMO",
        "outputId": "61357a67-cb18-425d-da74-046fcc1a79d3"
      },
      "execution_count": null,
      "outputs": [
        {
          "output_type": "stream",
          "name": "stdout",
          "text": [
            "           X          Y   incident_id agency               incident_address  \\\n",
            "0 -82.993989  42.410293  202306901627   DPD     Glenfield Ave & Gratiot Ave   \n",
            "1 -83.052792  42.415266  202306901629   DPD            Luce St & Fenelon St   \n",
            "2 -83.072103  42.368421  202306901630   DPD   W Baltimore St & Woodward Ave   \n",
            "3 -83.226541  42.429892  202306901632   DPD          Avon Ave & W 7 Mile Rd   \n",
            "4 -83.240073  42.409465  202306901633   DPD     Heyden St & Grand River Ave   \n",
            "\n",
            "   zip_code priority callcode             calldescription  category  ...  \\\n",
            "0     48213        3   W4807   START OF SHIFT INFORMATION  STRTSHFT  ...   \n",
            "1     48212        3   SA               SPECIAL ATTENTION  SPCL ATT  ...   \n",
            "2     48202        3   SA               SPECIAL ATTENTION  SPCL ATT  ...   \n",
            "3     48219        4   372040                 UDAA REPORT  UDAAREPT  ...   \n",
            "4     48219        3   SA               SPECIAL ATTENTION  SPCL ATT  ...   \n",
            "\n",
            "  traveltime totalresponsetime time_on_scene totaltime     neighborhood  \\\n",
            "0        0.0               0.0           7.6       7.7     Eden Gardens   \n",
            "1        0.0               0.0          22.8      22.8  Buffalo Charles   \n",
            "2        0.0               0.0          18.7      18.7       New Center   \n",
            "3        0.0               0.0           0.8       0.8      O'Hair Park   \n",
            "4        0.0               0.0           5.0       5.0     Miller Grove   \n",
            "\n",
            "       block_id  council_district  longitude   latitude  ObjectId  \n",
            "0  2.616350e+14               4.0 -82.993989  42.410293       1.0  \n",
            "1  2.616351e+14               3.0 -83.052792  42.415266       2.0  \n",
            "2  2.616353e+14               5.0 -83.072103  42.368421       3.0  \n",
            "3  2.616354e+14               1.0 -83.226541  42.429892       4.0  \n",
            "4  2.616354e+14               1.0 -83.240073  42.409465       5.0  \n",
            "\n",
            "[5 rows x 26 columns]\n"
          ]
        }
      ]
    },
    {
      "cell_type": "markdown",
      "metadata": {
        "id": "jWBpBf6HN83i"
      },
      "source": [
        "Bagian 1: Model Populasi Polisi Detroit\n",
        "\n",
        "Baca data dari file Laporan Polisi Detroit menggunakan modul csv dan terjemahkan data ke dalam daftar dictionary. Menggunakan Filter dengan fungsi lambda untuk mengecualikan dictionary (baris CSV) yang memiliki data yang hilang di kolom Zip, atau kolom Neighborhood. Dengan menggunakan fungsi lambda dan Reduce, hitung total waktu respons rata-rata, waktu pengiriman rata-rata, dan total waktu rata-rata untuk kepolisian Detroit."
      ]
    },
    {
      "cell_type": "code",
      "source": [],
      "metadata": {
        "id": "nIs9b8zWpw94"
      },
      "execution_count": null,
      "outputs": []
    },
    {
      "cell_type": "code",
      "source": [
        "import csv\n",
        "\n",
        "# Fungsi untuk membaca file CSV dan memfilter baris yang lengkap\n",
        "def baca_csv_filter(nama_file):\n",
        "    with open(nama_file, 'r') as file:\n",
        "        pembaca = csv.DictReader(file)\n",
        "        data = filter(lambda x: x['zip_code'] != '' and x['neighborhood'] != '', pembaca)\n",
        "        return list(data)\n",
        "\n",
        "# Fungsi untuk mengubah nilai menjadi float jika memungkinkan, atau mengembalikan 0\n",
        "def aman_ke_float(nilai):\n",
        "    try:\n",
        "        return float(nilai)\n",
        "    except (ValueError, TypeError):\n",
        "        return 0.0\n",
        "\n",
        "# Menghitung total waktu respons rata-rata, waktu pengiriman rata-rata, dan total waktu rata-rata\n",
        "def hitung_rerata(data):\n",
        "    total_waktu_respons = 0\n",
        "    total_waktu_pengiriman = 0\n",
        "    total_waktu = 0\n",
        "    jumlah_rekaman = 0\n",
        "\n",
        "    for baris in data:\n",
        "        total_waktu_respons += aman_ke_float(baris.get('totalresponsetime'))\n",
        "        total_waktu_pengiriman += aman_ke_float(baris.get('traveltime'))\n",
        "        total_waktu += aman_ke_float(baris.get('totaltime'))\n",
        "        jumlah_rekaman += 1\n",
        "\n",
        "    if jumlah_rekaman == 0:\n",
        "        return {\n",
        "            'neighborhood': 'DETROIT',  # Tambahkan kunci neighborhood dengan nilai 'DETROIT'\n",
        "            'rerata_waktu_respons': 0,\n",
        "            'rerata_waktu_pengiriman': 0,\n",
        "            'rerata_total_waktu': 0\n",
        "        }\n",
        "\n",
        "    return {\n",
        "        'neighborhood': 'DETROIT',  # Tambahkan kunci neighborhood dengan nilai 'DETROIT'\n",
        "        'rerata_waktu_respons': total_waktu_respons / jumlah_rekaman,\n",
        "        'rerata_waktu_pengiriman': total_waktu_pengiriman / jumlah_rekaman,\n",
        "        'rerata_total_waktu': total_waktu / jumlah_rekaman\n",
        "    }\n",
        "\n",
        "# Path file CSV\n",
        "path_csv = \"/content/911_Calls_for_Service_(Last_30_Days).csv\"\n",
        "\n",
        "# Baca file CSV dan filter data\n",
        "data_terfilter = baca_csv_filter(path_csv)\n",
        "\n",
        "# Hitung rata-rata waktu respons, waktu pengiriman, dan total waktu\n",
        "hasil_part1 = hitung_rerata(data_terfilter)\n",
        "print(hasil_part1)\n"
      ],
      "metadata": {
        "colab": {
          "base_uri": "https://localhost:8080/"
        },
        "id": "VvJvH_B5PSxF",
        "outputId": "5f278af3-51f9-4c41-c44e-fed3fe65720d"
      },
      "execution_count": null,
      "outputs": [
        {
          "output_type": "stream",
          "name": "stdout",
          "text": [
            "{'neighborhood': 'DETROIT', 'rerata_waktu_respons': 8.023254124066208, 'rerata_waktu_pengiriman': 2.2458019938298404, 'rerata_total_waktu': 28.634880548686127}\n"
          ]
        }
      ]
    },
    {
      "cell_type": "markdown",
      "metadata": {
        "id": "bf7Qbf1xN83j"
      },
      "source": [
        "Bagian 2: Modelkan Neighborhood Samples\n",
        "\n",
        "Menggunakan fungsi lambda dan map, atau lambda dan Filter, bagi list dictionary menjadi list dictionary yang lebih kecil yang dipisahkan oleh neighborhood. Dengan menggunakan lambda dan Reduce, temukan total waktu respons rata-rata untuk setiap neighborhood, waktu pengiriman rata-rata untuk setiap neighborhood, dan total waktu rata-rata untuk setiap neighborhood dan simpanlah ke dalam list dictionary. Tambahkan item dictioanary untuk menyertakan data populasi untuk semua Detroit dalam daftar gabungan Anda."
      ]
    },
    {
      "cell_type": "code",
      "source": [
        "import csv\n",
        "from functools import reduce\n",
        "\n",
        "# Fungsi untuk membaca file CSV dan memfilter baris yang lengkap\n",
        "def baca_csv_saring(nama_file):\n",
        "    with open(nama_file, 'r') as file:\n",
        "        pembaca = csv.DictReader(file)\n",
        "        data = filter(lambda x: x['zip_code'] != '' and x['neighborhood'] != '', pembaca)\n",
        "        return list(data)\n",
        "\n",
        "# Fungsi untuk mengubah nilai menjadi float jika memungkinkan, atau mengembalikan 0\n",
        "def aman_ke_float(nilai):\n",
        "    try:\n",
        "        return float(nilai)\n",
        "    except (ValueError, TypeError):\n",
        "        return 0.0\n",
        "\n",
        "# Mengelompokkan data berdasarkan daerah (neighborhood)\n",
        "def kelompokkan_berdasarkan_daerah(data):\n",
        "    return reduce(lambda acc, baris: acc.setdefault(baris['neighborhood'], []).append(baris) or acc, data, {})\n",
        "\n",
        "# Menghitung rata-rata waktu respons, waktu perjalanan, dan total waktu untuk setiap daerah\n",
        "def hitung_rata_rata_daerah(data):\n",
        "    rata_rata = {}\n",
        "    for daerah, catatan in data.items():\n",
        "        if not catatan:\n",
        "            rata_rata[daerah] = {\n",
        "                'rata_rata_waktu_respons': 0,\n",
        "                'rata_rata_waktu_perjalanan': 0,\n",
        "                'rata_rata_waktu_total': 0,\n",
        "                'populasi': 0\n",
        "            }\n",
        "        else:\n",
        "            jumlah_catatan = len(catatan)\n",
        "            total_waktu_respons = sum(aman_ke_float(baris['totalresponsetime']) for baris in catatan)\n",
        "            total_waktu_perjalanan = sum(aman_ke_float(baris['traveltime']) for baris in catatan)\n",
        "            total_waktu = sum(aman_ke_float(baris['totaltime']) for baris in catatan)\n",
        "\n",
        "            rata_rata[daerah] = {\n",
        "                'rata_rata_waktu_respons': total_waktu_respons / jumlah_catatan,\n",
        "                'rata_rata_waktu_perjalanan': total_waktu_perjalanan / jumlah_catatan,\n",
        "                'rata_rata_waktu_total': total_waktu / jumlah_catatan,\n",
        "                'populasi': jumlah_catatan  # Menambahkan populasi setiap daerah\n",
        "            }\n",
        "    return rata_rata\n",
        "\n",
        "# Path file CSV\n",
        "path_csv = \"/content/911_Calls_for_Service_(Last_30_Days).csv\"\n",
        "\n",
        "# Baca file CSV dan filter data\n",
        "data_terfilter = baca_csv_saring(path_csv)\n",
        "\n",
        "# Bagian 2 - Kelompokkan data berdasarkan daerah\n",
        "data_terkelompok = kelompokkan_berdasarkan_daerah(data_terfilter)\n",
        "\n",
        "# Bagian 3 - Hitung rata-rata waktu respons, waktu perjalanan, dan total waktu untuk setiap daerah\n",
        "rata_rata_daerah = hitung_rata_rata_daerah(data_terkelompok)\n",
        "\n",
        "# Tambahkan item dictionary untuk menyertakan data populasi untuk semua Detroit dalam daftar gabungan\n",
        "total_populasi = len(data_terfilter)\n",
        "for daerah in rata_rata_daerah:\n",
        "    rata_rata_daerah[daerah]['total_populasi'] = total_populasi\n",
        "\n",
        "print(rata_rata_daerah)\n"
      ],
      "metadata": {
        "colab": {
          "base_uri": "https://localhost:8080/"
        },
        "id": "vOBZ3rNJPbSb",
        "outputId": "1951925f-d027-4d7e-aba9-23584e846f47"
      },
      "execution_count": 6,
      "outputs": [
        {
          "output_type": "stream",
          "name": "stdout",
          "text": [
            "{'Eden Gardens': {'rata_rata_waktu_respons': 13.271794871794876, 'rata_rata_waktu_perjalanan': 2.132478632478633, 'rata_rata_waktu_total': 39.54829059829062, 'populasi': 234, 'total_populasi': 78442}, 'Buffalo Charles': {'rata_rata_waktu_respons': 15.238418079096045, 'rata_rata_waktu_perjalanan': 3.449717514124294, 'rata_rata_waktu_total': 43.76610169491524, 'populasi': 177, 'total_populasi': 78442}, 'New Center': {'rata_rata_waktu_respons': 1.5535570469798656, 'rata_rata_waktu_perjalanan': 0.490738255033557, 'rata_rata_waktu_total': 15.192617449664418, 'populasi': 745, 'total_populasi': 78442}, \"O'Hair Park\": {'rata_rata_waktu_respons': 14.337538461538458, 'rata_rata_waktu_perjalanan': 4.272307692307694, 'rata_rata_waktu_total': 44.951076923076954, 'populasi': 325, 'total_populasi': 78442}, 'Miller Grove': {'rata_rata_waktu_respons': 11.465137614678897, 'rata_rata_waktu_perjalanan': 2.105963302752293, 'rata_rata_waktu_total': 32.55366972477064, 'populasi': 218, 'total_populasi': 78442}, 'Elmwood Park': {'rata_rata_waktu_respons': 10.977749360613815, 'rata_rata_waktu_perjalanan': 3.645524296675191, 'rata_rata_waktu_total': 39.05652173913046, 'populasi': 391, 'total_populasi': 78442}, 'Downtown': {'rata_rata_waktu_respons': 2.3250989522700802, 'rata_rata_waktu_perjalanan': 0.820279394644936, 'rata_rata_waktu_total': 17.184377182770657, 'populasi': 4295, 'total_populasi': 78442}, 'Warrendale': {'rata_rata_waktu_respons': 13.904394046775334, 'rata_rata_waktu_perjalanan': 3.48809355067328, 'rata_rata_waktu_total': 38.44868887313961, 'populasi': 1411, 'total_populasi': 78442}, 'Palmer Park': {'rata_rata_waktu_respons': 13.719285714285718, 'rata_rata_waktu_perjalanan': 3.483214285714286, 'rata_rata_waktu_total': 33.24785714285715, 'populasi': 280, 'total_populasi': 78442}, 'Brightmoor': {'rata_rata_waktu_respons': 13.119658119658128, 'rata_rata_waktu_perjalanan': 3.7483974358974343, 'rata_rata_waktu_total': 36.91591880341881, 'populasi': 936, 'total_populasi': 78442}, 'McDougall-Hunt': {'rata_rata_waktu_respons': 5.372916666666667, 'rata_rata_waktu_perjalanan': 1.6964015151515153, 'rata_rata_waktu_total': 23.414015151515173, 'populasi': 528, 'total_populasi': 78442}, 'Detroit Golf': {'rata_rata_waktu_respons': 10.315624999999999, 'rata_rata_waktu_perjalanan': 3.4562500000000003, 'rata_rata_waktu_total': 35.98750000000001, 'populasi': 32, 'total_populasi': 78442}, 'Central Southwest': {'rata_rata_waktu_respons': 6.748289345063535, 'rata_rata_waktu_perjalanan': 2.004789833822091, 'rata_rata_waktu_total': 25.641837732160305, 'populasi': 1023, 'total_populasi': 78442}, 'Eastern Market': {'rata_rata_waktu_respons': 0.6109747784594409, 'rata_rata_waktu_perjalanan': 0.14914792092706197, 'rata_rata_waktu_total': 12.713496932515342, 'populasi': 1467, 'total_populasi': 78442}, 'Davison': {'rata_rata_waktu_respons': 2.2406218655967907, 'rata_rata_waktu_perjalanan': 0.7027081243731194, 'rata_rata_waktu_total': 14.612337011033102, 'populasi': 997, 'total_populasi': 78442}, 'Schulze': {'rata_rata_waktu_respons': 13.773015873015874, 'rata_rata_waktu_perjalanan': 3.5347442680776004, 'rata_rata_waktu_total': 37.079012345679, 'populasi': 567, 'total_populasi': 78442}, 'Grand River-I96': {'rata_rata_waktu_respons': 4.160460829493086, 'rata_rata_waktu_perjalanan': 1.1376958525345624, 'rata_rata_waktu_total': 22.477511520737337, 'populasi': 1085, 'total_populasi': 78442}, 'Oakman Blvd Community': {'rata_rata_waktu_respons': 10.58681081081081, 'rata_rata_waktu_perjalanan': 2.658486486486485, 'rata_rata_waktu_total': 34.92951351351351, 'populasi': 925, 'total_populasi': 78442}, 'Boynton': {'rata_rata_waktu_respons': 9.520871559633026, 'rata_rata_waktu_perjalanan': 3.888073394495414, 'rata_rata_waktu_total': 32.19174311926606, 'populasi': 436, 'total_populasi': 78442}, 'Farwell': {'rata_rata_waktu_respons': 5.725349922239505, 'rata_rata_waktu_perjalanan': 1.464541213063763, 'rata_rata_waktu_total': 24.45054432348365, 'populasi': 643, 'total_populasi': 78442}, 'Cornerstone Village': {'rata_rata_waktu_respons': 14.494435075885333, 'rata_rata_waktu_perjalanan': 4.129848229342328, 'rata_rata_waktu_total': 44.8151770657673, 'populasi': 593, 'total_populasi': 78442}, 'Bethune Community': {'rata_rata_waktu_respons': 11.016535433070874, 'rata_rata_waktu_perjalanan': 2.946719160104986, 'rata_rata_waktu_total': 34.483202099737575, 'populasi': 1143, 'total_populasi': 78442}, 'Russell Woods': {'rata_rata_waktu_respons': 7.172596153846154, 'rata_rata_waktu_perjalanan': 2.156730769230768, 'rata_rata_waktu_total': 21.782211538461542, 'populasi': 208, 'total_populasi': 78442}, 'Gratiot-Findlay': {'rata_rata_waktu_respons': 2.619330543933054, 'rata_rata_waktu_perjalanan': 0.6504602510460251, 'rata_rata_waktu_total': 15.132384937238509, 'populasi': 1195, 'total_populasi': 78442}, 'Gratiot Town/Ketterring': {'rata_rata_waktu_respons': 8.129616724738673, 'rata_rata_waktu_perjalanan': 2.4651567944250883, 'rata_rata_waktu_total': 32.20487804878049, 'populasi': 287, 'total_populasi': 78442}, 'Grandmont #1': {'rata_rata_waktu_respons': 15.991780821917803, 'rata_rata_waktu_perjalanan': 3.9410958904109585, 'rata_rata_waktu_total': 44.57397260273974, 'populasi': 73, 'total_populasi': 78442}, 'Greenfield': {'rata_rata_waktu_respons': 13.940095846645361, 'rata_rata_waktu_perjalanan': 4.43338658146965, 'rata_rata_waktu_total': 39.92300319488817, 'populasi': 626, 'total_populasi': 78442}, 'Aviation Sub': {'rata_rata_waktu_respons': 14.741044776119406, 'rata_rata_waktu_perjalanan': 4.247761194029851, 'rata_rata_waktu_total': 39.39029850746268, 'populasi': 134, 'total_populasi': 78442}, 'Chandler Park': {'rata_rata_waktu_respons': 7.175401069518714, 'rata_rata_waktu_perjalanan': 2.2005347593582885, 'rata_rata_waktu_total': 34.800534759358285, 'populasi': 187, 'total_populasi': 78442}, 'Rosedale Park': {'rata_rata_waktu_respons': 6.301928374655648, 'rata_rata_waktu_perjalanan': 1.7575757575757573, 'rata_rata_waktu_total': 25.765840220385684, 'populasi': 363, 'total_populasi': 78442}, 'Greektown': {'rata_rata_waktu_respons': 0.8038321167883212, 'rata_rata_waktu_perjalanan': 0.40364963503649653, 'rata_rata_waktu_total': 16.93166058394162, 'populasi': 1096, 'total_populasi': 78442}, 'Warren Ave Community': {'rata_rata_waktu_respons': 10.531604342581423, 'rata_rata_waktu_perjalanan': 2.437756332931242, 'rata_rata_waktu_total': 27.588057901085655, 'populasi': 829, 'total_populasi': 78442}, 'McNichols Evergreen': {'rata_rata_waktu_respons': 9.301960784313726, 'rata_rata_waktu_perjalanan': 2.7888888888888888, 'rata_rata_waktu_total': 29.004575163398698, 'populasi': 153, 'total_populasi': 78442}, 'Hubbard Farms': {'rata_rata_waktu_respons': 7.056934306569343, 'rata_rata_waktu_perjalanan': 2.354014598540146, 'rata_rata_waktu_total': 29.450364963503652, 'populasi': 137, 'total_populasi': 78442}, 'West End': {'rata_rata_waktu_respons': 11.708196721311472, 'rata_rata_waktu_perjalanan': 2.568032786885245, 'rata_rata_waktu_total': 39.80696721311477, 'populasi': 244, 'total_populasi': 78442}, 'Campau/Banglatown': {'rata_rata_waktu_respons': 9.491428571428575, 'rata_rata_waktu_perjalanan': 3.8142857142857145, 'rata_rata_waktu_total': 29.98000000000001, 'populasi': 70, 'total_populasi': 78442}, 'Krainz Woods': {'rata_rata_waktu_respons': 11.626785714285713, 'rata_rata_waktu_perjalanan': 2.245089285714286, 'rata_rata_waktu_total': 35.98392857142858, 'populasi': 224, 'total_populasi': 78442}, 'Barton-McFarland': {'rata_rata_waktu_respons': 12.622268326417709, 'rata_rata_waktu_perjalanan': 3.487275242047024, 'rata_rata_waktu_total': 42.49847856154907, 'populasi': 723, 'total_populasi': 78442}, 'Woodbridge': {'rata_rata_waktu_respons': 2.5227722772277223, 'rata_rata_waktu_perjalanan': 0.9685643564356438, 'rata_rata_waktu_total': 29.555198019801992, 'populasi': 404, 'total_populasi': 78442}, 'Five Points': {'rata_rata_waktu_respons': 14.731300813008131, 'rata_rata_waktu_perjalanan': 4.834146341463416, 'rata_rata_waktu_total': 44.063008130081286, 'populasi': 246, 'total_populasi': 78442}, 'Petoskey-Otsego': {'rata_rata_waktu_respons': 10.690041493775933, 'rata_rata_waktu_perjalanan': 3.0539419087136928, 'rata_rata_waktu_total': 37.19419087136932, 'populasi': 241, 'total_populasi': 78442}, 'Minock Park': {'rata_rata_waktu_respons': 9.021428571428574, 'rata_rata_waktu_perjalanan': 4.207142857142857, 'rata_rata_waktu_total': 38.982142857142854, 'populasi': 56, 'total_populasi': 78442}, 'Pulaski': {'rata_rata_waktu_respons': 12.92563559322034, 'rata_rata_waktu_perjalanan': 3.6773305084745775, 'rata_rata_waktu_total': 37.265889830508506, 'populasi': 472, 'total_populasi': 78442}, 'Forest Park': {'rata_rata_waktu_respons': 8.27085201793722, 'rata_rata_waktu_perjalanan': 2.76322869955157, 'rata_rata_waktu_total': 30.911210762331837, 'populasi': 223, 'total_populasi': 78442}, 'Cadillac Community': {'rata_rata_waktu_respons': 8.601197604790421, 'rata_rata_waktu_perjalanan': 2.508982035928144, 'rata_rata_waktu_total': 27.692814371257484, 'populasi': 167, 'total_populasi': 78442}, 'Conner Creek': {'rata_rata_waktu_respons': 7.92895277207392, 'rata_rata_waktu_perjalanan': 2.9248459958932234, 'rata_rata_waktu_total': 29.37166324435317, 'populasi': 487, 'total_populasi': 78442}, 'Milwaukee Junction': {'rata_rata_waktu_respons': 3.239819004524888, 'rata_rata_waktu_perjalanan': 1.2262443438914028, 'rata_rata_waktu_total': 19.678280542986414, 'populasi': 221, 'total_populasi': 78442}, 'North End': {'rata_rata_waktu_respons': 5.4166112956810615, 'rata_rata_waktu_perjalanan': 2.134883720930232, 'rata_rata_waktu_total': 22.703986710963456, 'populasi': 301, 'total_populasi': 78442}, 'Nortown': {'rata_rata_waktu_respons': 9.668971962616828, 'rata_rata_waktu_perjalanan': 2.636822429906542, 'rata_rata_waktu_total': 28.021682242990675, 'populasi': 535, 'total_populasi': 78442}, 'Midtown': {'rata_rata_waktu_respons': 3.561836245289482, 'rata_rata_waktu_perjalanan': 1.227201096265845, 'rata_rata_waktu_total': 26.460260363138097, 'populasi': 2919, 'total_populasi': 78442}, 'Tech Town': {'rata_rata_waktu_respons': 2.5861904761904757, 'rata_rata_waktu_perjalanan': 1.3261904761904764, 'rata_rata_waktu_total': 51.87380952380954, 'populasi': 210, 'total_populasi': 78442}, 'Grandmont': {'rata_rata_waktu_respons': 13.025563909774435, 'rata_rata_waktu_perjalanan': 2.217293233082706, 'rata_rata_waktu_total': 32.79097744360903, 'populasi': 133, 'total_populasi': 78442}, 'North LaSalle': {'rata_rata_waktu_respons': 12.065760869565219, 'rata_rata_waktu_perjalanan': 3.6565217391304343, 'rata_rata_waktu_total': 35.518478260869564, 'populasi': 184, 'total_populasi': 78442}, 'Pembroke': {'rata_rata_waktu_respons': 12.2, 'rata_rata_waktu_perjalanan': 4.9577319587628885, 'rata_rata_waktu_total': 37.91030927835051, 'populasi': 97, 'total_populasi': 78442}, 'College Park': {'rata_rata_waktu_respons': 10.177430555555556, 'rata_rata_waktu_perjalanan': 3.1046875000000003, 'rata_rata_waktu_total': 33.87847222222226, 'populasi': 576, 'total_populasi': 78442}, 'Hubbell-Puritan': {'rata_rata_waktu_respons': 12.867219917012443, 'rata_rata_waktu_perjalanan': 3.453112033195021, 'rata_rata_waktu_total': 44.76970954356843, 'populasi': 241, 'total_populasi': 78442}, 'We Care Community': {'rata_rata_waktu_respons': 13.377108433734946, 'rata_rata_waktu_perjalanan': 3.5927710843373477, 'rata_rata_waktu_total': 35.77228915662651, 'populasi': 249, 'total_populasi': 78442}, 'Indian Village': {'rata_rata_waktu_respons': 2.1345454545454543, 'rata_rata_waktu_perjalanan': 1.3890909090909092, 'rata_rata_waktu_total': 23.694545454545455, 'populasi': 55, 'total_populasi': 78442}, 'NW Goldberg': {'rata_rata_waktu_respons': 7.164980544747082, 'rata_rata_waktu_perjalanan': 2.5070038910505845, 'rata_rata_waktu_total': 28.40350194552529, 'populasi': 257, 'total_populasi': 78442}, 'Joy-Schaefer': {'rata_rata_waktu_respons': 14.706201550387597, 'rata_rata_waktu_perjalanan': 3.27906976744186, 'rata_rata_waktu_total': 35.351937984496125, 'populasi': 129, 'total_populasi': 78442}, 'North Corktown': {'rata_rata_waktu_respons': 4.926517571884983, 'rata_rata_waktu_perjalanan': 1.873801916932907, 'rata_rata_waktu_total': 27.990415335463254, 'populasi': 313, 'total_populasi': 78442}, 'Core City': {'rata_rata_waktu_respons': 5.308108108108109, 'rata_rata_waktu_perjalanan': 1.88063063063063, 'rata_rata_waktu_total': 26.596846846846848, 'populasi': 222, 'total_populasi': 78442}, 'West Side Industrial': {'rata_rata_waktu_respons': 5.443661971830986, 'rata_rata_waktu_perjalanan': 1.6370892018779342, 'rata_rata_waktu_total': 26.839436619718324, 'populasi': 213, 'total_populasi': 78442}, 'Franklin Park': {'rata_rata_waktu_respons': 6.052913533834581, 'rata_rata_waktu_perjalanan': 1.3734492481203002, 'rata_rata_waktu_total': 21.3139567669173, 'populasi': 2128, 'total_populasi': 78442}, 'Regent Park': {'rata_rata_waktu_respons': 9.36613995485328, 'rata_rata_waktu_perjalanan': 2.7879232505643325, 'rata_rata_waktu_total': 30.736004514672672, 'populasi': 886, 'total_populasi': 78442}, 'Delray': {'rata_rata_waktu_respons': 0.9933147632311982, 'rata_rata_waktu_perjalanan': 0.3622562674094707, 'rata_rata_waktu_total': 12.68690807799446, 'populasi': 718, 'total_populasi': 78442}, 'Evergreen Lahser 7/8': {'rata_rata_waktu_respons': 16.19439775910364, 'rata_rata_waktu_perjalanan': 4.125770308123246, 'rata_rata_waktu_total': 42.74005602240897, 'populasi': 357, 'total_populasi': 78442}, 'Westwood Park': {'rata_rata_waktu_respons': 13.53095238095238, 'rata_rata_waktu_perjalanan': 3.5999999999999996, 'rata_rata_waktu_total': 34.203968253968256, 'populasi': 126, 'total_populasi': 78442}, 'Conant Gardens': {'rata_rata_waktu_respons': 4.0488372093023255, 'rata_rata_waktu_perjalanan': 1.3976744186046512, 'rata_rata_waktu_total': 20.65872093023256, 'populasi': 172, 'total_populasi': 78442}, 'Castle Rouge': {'rata_rata_waktu_respons': 33.19634146341463, 'rata_rata_waktu_perjalanan': 6.881707317073172, 'rata_rata_waktu_total': 52.519512195121955, 'populasi': 82, 'total_populasi': 78442}, 'Airport Sub': {'rata_rata_waktu_respons': 11.278762306610405, 'rata_rata_waktu_perjalanan': 3.67144866385373, 'rata_rata_waktu_total': 35.09367088607593, 'populasi': 711, 'total_populasi': 78442}, 'Riverbend': {'rata_rata_waktu_respons': 4.741666666666666, 'rata_rata_waktu_perjalanan': 0.9177860696517418, 'rata_rata_waktu_total': 19.822512437810957, 'populasi': 804, 'total_populasi': 78442}, 'The Eye': {'rata_rata_waktu_respons': 16.60877192982456, 'rata_rata_waktu_perjalanan': 4.296491228070177, 'rata_rata_waktu_total': 41.20350877192983, 'populasi': 171, 'total_populasi': 78442}, 'Grant': {'rata_rata_waktu_respons': 2.052915291529153, 'rata_rata_waktu_perjalanan': 0.54015401540154, 'rata_rata_waktu_total': 14.123102310231067, 'populasi': 909, 'total_populasi': 78442}, 'Evergreen-Outer Drive': {'rata_rata_waktu_respons': 11.256946826758144, 'rata_rata_waktu_perjalanan': 3.344768439108062, 'rata_rata_waktu_total': 36.25763293310466, 'populasi': 583, 'total_populasi': 78442}, 'Ravendale': {'rata_rata_waktu_respons': 8.70748299319728, 'rata_rata_waktu_perjalanan': 2.702721088435374, 'rata_rata_waktu_total': 28.24285714285714, 'populasi': 147, 'total_populasi': 78442}, 'Joy Community': {'rata_rata_waktu_respons': 10.41076696165192, 'rata_rata_waktu_perjalanan': 1.9143067846607664, 'rata_rata_waktu_total': 32.238053097345144, 'populasi': 678, 'total_populasi': 78442}, 'Corktown': {'rata_rata_waktu_respons': 4.248577680525163, 'rata_rata_waktu_perjalanan': 1.649890590809628, 'rata_rata_waktu_total': 19.76586433260394, 'populasi': 457, 'total_populasi': 78442}, 'Wayne State': {'rata_rata_waktu_respons': 1.5266423357664234, 'rata_rata_waktu_perjalanan': 0.6976642335766424, 'rata_rata_waktu_total': 25.32759124087593, 'populasi': 1370, 'total_populasi': 78442}, 'Belmont': {'rata_rata_waktu_respons': 6.478109452736321, 'rata_rata_waktu_perjalanan': 2.250746268656716, 'rata_rata_waktu_total': 31.889054726368155, 'populasi': 201, 'total_populasi': 78442}, 'North Rosedale Park': {'rata_rata_waktu_respons': 8.834470989761089, 'rata_rata_waktu_perjalanan': 2.2901023890784993, 'rata_rata_waktu_total': 29.17372013651877, 'populasi': 293, 'total_populasi': 78442}, 'Oak Grove': {'rata_rata_waktu_respons': 3.784544524053225, 'rata_rata_waktu_perjalanan': 0.8841351074718526, 'rata_rata_waktu_total': 16.73490276356195, 'populasi': 977, 'total_populasi': 78442}, 'Schoolcraft Southfield': {'rata_rata_waktu_respons': 9.232025117739406, 'rata_rata_waktu_perjalanan': 2.788697017268446, 'rata_rata_waktu_total': 31.894348508634195, 'populasi': 637, 'total_populasi': 78442}, 'Crary/St Marys': {'rata_rata_waktu_respons': 13.690929705215428, 'rata_rata_waktu_perjalanan': 4.060997732426304, 'rata_rata_waktu_total': 37.93061224489792, 'populasi': 441, 'total_populasi': 78442}, 'Mount Olivet': {'rata_rata_waktu_respons': 8.189483065953654, 'rata_rata_waktu_perjalanan': 1.9032085561497332, 'rata_rata_waktu_total': 23.18520499108734, 'populasi': 561, 'total_populasi': 78442}, 'Nardin Park': {'rata_rata_waktu_respons': 3.6691834942932378, 'rata_rata_waktu_perjalanan': 1.0405618964003511, 'rata_rata_waktu_total': 16.864091308165047, 'populasi': 1139, 'total_populasi': 78442}, 'Pershing': {'rata_rata_waktu_respons': 6.456050955414014, 'rata_rata_waktu_perjalanan': 1.6770700636942677, 'rata_rata_waktu_total': 41.892993630573244, 'populasi': 157, 'total_populasi': 78442}, 'Palmer Woods': {'rata_rata_waktu_respons': 0.6160248447204968, 'rata_rata_waktu_perjalanan': 0.17614906832298136, 'rata_rata_waktu_total': 10.19403726708075, 'populasi': 805, 'total_populasi': 78442}, 'Islandview': {'rata_rata_waktu_respons': 7.259528907922915, 'rata_rata_waktu_perjalanan': 2.388222698072806, 'rata_rata_waktu_total': 31.20128479657389, 'populasi': 467, 'total_populasi': 78442}, 'Piety Hill': {'rata_rata_waktu_respons': 8.19090909090909, 'rata_rata_waktu_perjalanan': 3.0236363636363635, 'rata_rata_waktu_total': 32.296363636363616, 'populasi': 165, 'total_populasi': 78442}, 'Nolan': {'rata_rata_waktu_respons': 3.9893044619422566, 'rata_rata_waktu_perjalanan': 1.3443569553805779, 'rata_rata_waktu_total': 19.720472440944892, 'populasi': 1524, 'total_populasi': 78442}, 'Far West Detroit': {'rata_rata_waktu_respons': 23.973770491803272, 'rata_rata_waktu_perjalanan': 8.401639344262296, 'rata_rata_waktu_total': 61.90000000000002, 'populasi': 122, 'total_populasi': 78442}, 'Claytown': {'rata_rata_waktu_respons': 10.296638655462184, 'rata_rata_waktu_perjalanan': 3.5763505402160884, 'rata_rata_waktu_total': 31.19219687875152, 'populasi': 833, 'total_populasi': 78442}, 'Dexter-Linwood': {'rata_rata_waktu_respons': 10.599397590361445, 'rata_rata_waktu_perjalanan': 2.762751004016065, 'rata_rata_waktu_total': 29.646184738955824, 'populasi': 996, 'total_populasi': 78442}, 'Mapleridge': {'rata_rata_waktu_respons': 8.628385416666669, 'rata_rata_waktu_perjalanan': 2.102213541666665, 'rata_rata_waktu_total': 33.34101562499999, 'populasi': 768, 'total_populasi': 78442}, 'Marina District': {'rata_rata_waktu_respons': 7.398387096774194, 'rata_rata_waktu_perjalanan': 2.2338709677419355, 'rata_rata_waktu_total': 25.577419354838693, 'populasi': 62, 'total_populasi': 78442}, 'Northeast Central District': {'rata_rata_waktu_respons': 8.734412955465588, 'rata_rata_waktu_perjalanan': 1.6157894736842098, 'rata_rata_waktu_total': 29.035222672064762, 'populasi': 247, 'total_populasi': 78442}, 'Riverdale': {'rata_rata_waktu_respons': 8.20289855072464, 'rata_rata_waktu_perjalanan': 2.2144927536231886, 'rata_rata_waktu_total': 26.109420289855063, 'populasi': 138, 'total_populasi': 78442}, 'Dexter-Fenkell': {'rata_rata_waktu_respons': 8.363076923076925, 'rata_rata_waktu_perjalanan': 2.303846153846153, 'rata_rata_waktu_total': 24.107692307692314, 'populasi': 130, 'total_populasi': 78442}, 'Lafayette Park': {'rata_rata_waktu_respons': 5.016835016835018, 'rata_rata_waktu_perjalanan': 1.282154882154882, 'rata_rata_waktu_total': 28.02525252525251, 'populasi': 297, 'total_populasi': 78442}, 'Seven Mile-Rouge': {'rata_rata_waktu_respons': 15.723555555555556, 'rata_rata_waktu_perjalanan': 3.72888888888889, 'rata_rata_waktu_total': 39.66222222222223, 'populasi': 225, 'total_populasi': 78442}, 'Chadsey Condon': {'rata_rata_waktu_respons': 11.061273209549068, 'rata_rata_waktu_perjalanan': 3.8941644562334226, 'rata_rata_waktu_total': 33.41909814323606, 'populasi': 377, 'total_populasi': 78442}, 'Weatherby': {'rata_rata_waktu_respons': 6.866141732283464, 'rata_rata_waktu_perjalanan': 1.541338582677166, 'rata_rata_waktu_total': 21.121259842519677, 'populasi': 254, 'total_populasi': 78442}, 'Jeffries': {'rata_rata_waktu_respons': 2.8, 'rata_rata_waktu_perjalanan': 0.7944723618090453, 'rata_rata_waktu_total': 19.77939698492462, 'populasi': 199, 'total_populasi': 78442}, 'Mohican Regent': {'rata_rata_waktu_respons': 5.658516483516483, 'rata_rata_waktu_perjalanan': 2.189285714285715, 'rata_rata_waktu_total': 19.991758241758248, 'populasi': 364, 'total_populasi': 78442}, 'Cultural Center': {'rata_rata_waktu_respons': 3.877437325905294, 'rata_rata_waktu_perjalanan': 1.4019498607242338, 'rata_rata_waktu_total': 24.75236768802229, 'populasi': 359, 'total_populasi': 78442}, 'Plymouth-I96': {'rata_rata_waktu_respons': 5.000719424460432, 'rata_rata_waktu_perjalanan': 1.1687050359712232, 'rata_rata_waktu_total': 19.682374100719436, 'populasi': 278, 'total_populasi': 78442}, 'University District': {'rata_rata_waktu_respons': 5.195634920634921, 'rata_rata_waktu_perjalanan': 1.7170634920634922, 'rata_rata_waktu_total': 22.19047619047618, 'populasi': 252, 'total_populasi': 78442}, 'Gratiot-Grand': {'rata_rata_waktu_respons': 6.4557324840764325, 'rata_rata_waktu_perjalanan': 2.0003184713375792, 'rata_rata_waktu_total': 28.40700636942674, 'populasi': 314, 'total_populasi': 78442}, 'Schaefer 7/8 Lodge': {'rata_rata_waktu_respons': 17.120132013201317, 'rata_rata_waktu_perjalanan': 4.842574257425745, 'rata_rata_waktu_total': 46.172277227722766, 'populasi': 303, 'total_populasi': 78442}, 'Medical Center': {'rata_rata_waktu_respons': 9.171206225680935, 'rata_rata_waktu_perjalanan': 2.8963035019455248, 'rata_rata_waktu_total': 46.50466926070039, 'populasi': 514, 'total_populasi': 78442}, 'Franklin': {'rata_rata_waktu_respons': 11.292499999999993, 'rata_rata_waktu_perjalanan': 2.728000000000001, 'rata_rata_waktu_total': 32.283499999999975, 'populasi': 400, 'total_populasi': 78442}, 'Bagley': {'rata_rata_waktu_respons': 11.189488636363635, 'rata_rata_waktu_perjalanan': 2.904119318181817, 'rata_rata_waktu_total': 32.00241477272728, 'populasi': 704, 'total_populasi': 78442}, 'Fox Creek': {'rata_rata_waktu_respons': 8.729494382022473, 'rata_rata_waktu_perjalanan': 2.379775280898876, 'rata_rata_waktu_total': 29.215730337078654, 'populasi': 356, 'total_populasi': 78442}, 'Winship': {'rata_rata_waktu_respons': 19.155384615384623, 'rata_rata_waktu_perjalanan': 4.898269230769237, 'rata_rata_waktu_total': 48.78884615384613, 'populasi': 520, 'total_populasi': 78442}, 'Southfield Plymouth': {'rata_rata_waktu_respons': 9.023333333333335, 'rata_rata_waktu_perjalanan': 1.9775, 'rata_rata_waktu_total': 30.795000000000012, 'populasi': 120, 'total_populasi': 78442}, 'Poletown East': {'rata_rata_waktu_respons': 5.042122186495177, 'rata_rata_waktu_perjalanan': 1.732154340836013, 'rata_rata_waktu_total': 22.240836012861724, 'populasi': 311, 'total_populasi': 78442}, 'Brush Park': {'rata_rata_waktu_respons': 2.9374717832957113, 'rata_rata_waktu_perjalanan': 1.0593679458239282, 'rata_rata_waktu_total': 14.488036117381505, 'populasi': 443, 'total_populasi': 78442}, 'Hawthorne Park': {'rata_rata_waktu_respons': 4.064601769911505, 'rata_rata_waktu_perjalanan': 1.0898230088495575, 'rata_rata_waktu_total': 15.226548672566375, 'populasi': 226, 'total_populasi': 78442}, 'Moross-Morang': {'rata_rata_waktu_respons': 10.549177330895798, 'rata_rata_waktu_perjalanan': 2.7007312614259598, 'rata_rata_waktu_total': 29.40566727605121, 'populasi': 547, 'total_populasi': 78442}, 'Plymouth-Hubbell': {'rata_rata_waktu_respons': 12.250700934579436, 'rata_rata_waktu_perjalanan': 2.656308411214952, 'rata_rata_waktu_total': 36.06168224299066, 'populasi': 428, 'total_populasi': 78442}, 'Harmony Village': {'rata_rata_waktu_respons': 10.632824427480916, 'rata_rata_waktu_perjalanan': 3.4984732824427476, 'rata_rata_waktu_total': 34.35470737913487, 'populasi': 393, 'total_populasi': 78442}, 'Sherwood Forest': {'rata_rata_waktu_respons': 2.8032258064516133, 'rata_rata_waktu_perjalanan': 0.8924731182795699, 'rata_rata_waktu_total': 17.880645161290328, 'populasi': 93, 'total_populasi': 78442}, 'Hubbell-Lyndon': {'rata_rata_waktu_respons': 11.336492890995252, 'rata_rata_waktu_perjalanan': 2.7298578199052126, 'rata_rata_waktu_total': 31.90071090047394, 'populasi': 422, 'total_populasi': 78442}, 'Von Steuben': {'rata_rata_waktu_respons': 9.163073394495417, 'rata_rata_waktu_perjalanan': 2.2887614678899073, 'rata_rata_waktu_total': 30.615137614678925, 'populasi': 436, 'total_populasi': 78442}, 'Morningside': {'rata_rata_waktu_respons': 13.343492586490939, 'rata_rata_waktu_perjalanan': 3.093410214168041, 'rata_rata_waktu_total': 42.616968698517304, 'populasi': 607, 'total_populasi': 78442}, 'McDowell': {'rata_rata_waktu_respons': 16.28181818181818, 'rata_rata_waktu_perjalanan': 2.9236363636363634, 'rata_rata_waktu_total': 37.922727272727265, 'populasi': 110, 'total_populasi': 78442}, 'East Village': {'rata_rata_waktu_respons': 10.672570194384445, 'rata_rata_waktu_perjalanan': 3.2853131749460056, 'rata_rata_waktu_total': 37.33542116630666, 'populasi': 463, 'total_populasi': 78442}, 'Denby': {'rata_rata_waktu_respons': 12.357692307692304, 'rata_rata_waktu_perjalanan': 2.6611888111888113, 'rata_rata_waktu_total': 38.43951048951047, 'populasi': 286, 'total_populasi': 78442}, 'Oakwood Heights': {'rata_rata_waktu_respons': 11.799999999999997, 'rata_rata_waktu_perjalanan': 3.982222222222222, 'rata_rata_waktu_total': 38.295555555555566, 'populasi': 45, 'total_populasi': 78442}, 'Outer Drive-Hayes': {'rata_rata_waktu_respons': 9.581809613572094, 'rata_rata_waktu_perjalanan': 3.113383600377002, 'rata_rata_waktu_total': 32.32921771913291, 'populasi': 1061, 'total_populasi': 78442}, 'Fitzgerald/Marygrove': {'rata_rata_waktu_respons': 13.518729641693808, 'rata_rata_waktu_perjalanan': 3.8649837133550466, 'rata_rata_waktu_total': 42.06270358306185, 'populasi': 614, 'total_populasi': 78442}, 'Greenfield-Grand River': {'rata_rata_waktu_respons': 11.581900452488687, 'rata_rata_waktu_perjalanan': 3.3606334841628955, 'rata_rata_waktu_total': 38.88190045248871, 'populasi': 221, 'total_populasi': 78442}, 'Medbury Park': {'rata_rata_waktu_respons': 2.2591549295774644, 'rata_rata_waktu_perjalanan': 1.2225352112676056, 'rata_rata_waktu_total': 15.342253521126763, 'populasi': 71, 'total_populasi': 78442}, 'Wade': {'rata_rata_waktu_respons': 11.978658536585366, 'rata_rata_waktu_perjalanan': 3.2365853658536587, 'rata_rata_waktu_total': 42.08780487804879, 'populasi': 164, 'total_populasi': 78442}, 'Cadillac Heights': {'rata_rata_waktu_respons': 9.149740932642487, 'rata_rata_waktu_perjalanan': 2.495854922279792, 'rata_rata_waktu_total': 32.64663212435234, 'populasi': 193, 'total_populasi': 78442}, 'Garden Homes': {'rata_rata_waktu_respons': 26.11284403669725, 'rata_rata_waktu_perjalanan': 4.583486238532109, 'rata_rata_waktu_total': 50.194495412844034, 'populasi': 109, 'total_populasi': 78442}, 'Pilgrim Village': {'rata_rata_waktu_respons': 14.287937743190655, 'rata_rata_waktu_perjalanan': 4.698054474708169, 'rata_rata_waktu_total': 37.9918287937743, 'populasi': 257, 'total_populasi': 78442}, 'West Village': {'rata_rata_waktu_respons': 5.960283687943264, 'rata_rata_waktu_perjalanan': 2.4624113475177314, 'rata_rata_waktu_total': 28.24468085106384, 'populasi': 141, 'total_populasi': 78442}, 'Springwells': {'rata_rata_waktu_respons': 8.913588390501314, 'rata_rata_waktu_perjalanan': 2.8744063324538254, 'rata_rata_waktu_total': 28.737730870712397, 'populasi': 758, 'total_populasi': 78442}, 'Chalfonte': {'rata_rata_waktu_respons': 12.854285714285718, 'rata_rata_waktu_perjalanan': 2.9799999999999986, 'rata_rata_waktu_total': 31.742448979591842, 'populasi': 245, 'total_populasi': 78442}, 'Martin Park': {'rata_rata_waktu_respons': 17.585620915032678, 'rata_rata_waktu_perjalanan': 4.34640522875817, 'rata_rata_waktu_total': 42.713725490196055, 'populasi': 153, 'total_populasi': 78442}, 'Jefferson Chalmers': {'rata_rata_waktu_respons': 10.035422343324255, 'rata_rata_waktu_perjalanan': 3.0076294277929154, 'rata_rata_waktu_total': 36.485831062670286, 'populasi': 367, 'total_populasi': 78442}, 'Grand River-St Marys': {'rata_rata_waktu_respons': 12.577934272300471, 'rata_rata_waktu_perjalanan': 3.1784037558685463, 'rata_rata_waktu_total': 32.95680751173707, 'populasi': 213, 'total_populasi': 78442}, 'Greenfield Park': {'rata_rata_waktu_respons': 4.634571428571428, 'rata_rata_waktu_perjalanan': 0.9488571428571427, 'rata_rata_waktu_total': 19.082857142857158, 'populasi': 350, 'total_populasi': 78442}, 'Jamison': {'rata_rata_waktu_respons': 14.511494252873566, 'rata_rata_waktu_perjalanan': 2.9379310344827583, 'rata_rata_waktu_total': 40.147126436781605, 'populasi': 87, 'total_populasi': 78442}, 'Holcomb Community': {'rata_rata_waktu_respons': 11.150145348837208, 'rata_rata_waktu_perjalanan': 2.1957848837209295, 'rata_rata_waktu_total': 35.09869186046511, 'populasi': 688, 'total_populasi': 78442}, 'Conner Creek Industrial': {'rata_rata_waktu_respons': 11.09891304347826, 'rata_rata_waktu_perjalanan': 2.320108695652173, 'rata_rata_waktu_total': 31.15815217391302, 'populasi': 184, 'total_populasi': 78442}, 'Eliza Howell': {'rata_rata_waktu_respons': 29.37190082644629, 'rata_rata_waktu_perjalanan': 7.177685950413223, 'rata_rata_waktu_total': 63.59752066115701, 'populasi': 121, 'total_populasi': 78442}, 'Chandler Park-Chalmers': {'rata_rata_waktu_respons': 8.824770642201834, 'rata_rata_waktu_perjalanan': 2.2266055045871562, 'rata_rata_waktu_total': 31.405504587155967, 'populasi': 109, 'total_populasi': 78442}, 'Henry Ford': {'rata_rata_waktu_respons': 19.580373831775706, 'rata_rata_waktu_perjalanan': 5.685981308411215, 'rata_rata_waktu_total': 47.49485981308411, 'populasi': 214, 'total_populasi': 78442}, 'East English Village': {'rata_rata_waktu_respons': 15.76653696498054, 'rata_rata_waktu_perjalanan': 4.45992217898833, 'rata_rata_waktu_total': 37.60233463035017, 'populasi': 257, 'total_populasi': 78442}, 'Yorkshire Woods': {'rata_rata_waktu_respons': 11.284010152284253, 'rata_rata_waktu_perjalanan': 2.6987309644670057, 'rata_rata_waktu_total': 36.312436548223346, 'populasi': 394, 'total_populasi': 78442}, 'Elijah McCoy': {'rata_rata_waktu_respons': 10.005600000000003, 'rata_rata_waktu_perjalanan': 3.4696, 'rata_rata_waktu_total': 43.185600000000015, 'populasi': 125, 'total_populasi': 78442}, 'Rivertown': {'rata_rata_waktu_respons': 2.469631901840491, 'rata_rata_waktu_perjalanan': 0.7542944785276073, 'rata_rata_waktu_total': 18.940337423312887, 'populasi': 652, 'total_populasi': 78442}, 'North Campau': {'rata_rata_waktu_respons': 4.502857142857143, 'rata_rata_waktu_perjalanan': 1.7485714285714284, 'rata_rata_waktu_total': 18.410204081632664, 'populasi': 245, 'total_populasi': 78442}, 'South of Six': {'rata_rata_waktu_respons': 11.151724137931035, 'rata_rata_waktu_perjalanan': 4.805172413793104, 'rata_rata_waktu_total': 42.15172413793104, 'populasi': 58, 'total_populasi': 78442}, 'Midwest': {'rata_rata_waktu_respons': 13.634542815674898, 'rata_rata_waktu_perjalanan': 4.427866473149486, 'rata_rata_waktu_total': 39.69825834542809, 'populasi': 689, 'total_populasi': 78442}, 'Northwest Community': {'rata_rata_waktu_respons': 6.253968253968254, 'rata_rata_waktu_perjalanan': 2.0642857142857145, 'rata_rata_waktu_total': 30.121428571428584, 'populasi': 126, 'total_populasi': 78442}, 'Gold Coast': {'rata_rata_waktu_respons': 8.37794117647059, 'rata_rata_waktu_perjalanan': 2.0426470588235293, 'rata_rata_waktu_total': 31.400980392156868, 'populasi': 204, 'total_populasi': 78442}, 'Littlefield Community': {'rata_rata_waktu_respons': 19.085263157894737, 'rata_rata_waktu_perjalanan': 4.417894736842103, 'rata_rata_waktu_total': 38.38736842105263, 'populasi': 95, 'total_populasi': 78442}, 'San Bernardo': {'rata_rata_waktu_respons': 9.55904761904762, 'rata_rata_waktu_perjalanan': 3.809523809523809, 'rata_rata_waktu_total': 26.7952380952381, 'populasi': 105, 'total_populasi': 78442}, 'Butler': {'rata_rata_waktu_respons': 8.794258373205743, 'rata_rata_waktu_perjalanan': 2.0177033492822973, 'rata_rata_waktu_total': 23.539712918660275, 'populasi': 209, 'total_populasi': 78442}, 'New Center Commons': {'rata_rata_waktu_respons': 7.190540540540538, 'rata_rata_waktu_perjalanan': 2.518243243243245, 'rata_rata_waktu_total': 31.863513513513514, 'populasi': 148, 'total_populasi': 78442}, 'Fiskhorn': {'rata_rata_waktu_respons': 10.677499999999998, 'rata_rata_waktu_perjalanan': 3.5624999999999996, 'rata_rata_waktu_total': 41.67166666666665, 'populasi': 120, 'total_populasi': 78442}, 'Rouge Park': {'rata_rata_waktu_respons': 7.721176470588235, 'rata_rata_waktu_perjalanan': 1.2352941176470589, 'rata_rata_waktu_total': 21.15764705882353, 'populasi': 85, 'total_populasi': 78442}, 'Herman Kiefer': {'rata_rata_waktu_respons': 23.80909090909091, 'rata_rata_waktu_perjalanan': 4.7727272727272725, 'rata_rata_waktu_total': 48.472727272727276, 'populasi': 44, 'total_populasi': 78442}, 'Blackstone Park': {'rata_rata_waktu_respons': 27.615, 'rata_rata_waktu_perjalanan': 4.51375, 'rata_rata_waktu_total': 61.36125, 'populasi': 80, 'total_populasi': 78442}, 'Davison-Schoolcraft': {'rata_rata_waktu_respons': 10.275151515151514, 'rata_rata_waktu_perjalanan': 2.644848484848484, 'rata_rata_waktu_total': 32.46545454545453, 'populasi': 165, 'total_populasi': 78442}, 'Mexicantown': {'rata_rata_waktu_respons': 8.75, 'rata_rata_waktu_perjalanan': 1.7249999999999999, 'rata_rata_waktu_total': 29.336363636363636, 'populasi': 44, 'total_populasi': 78442}, 'Gratiot Woods': {'rata_rata_waktu_respons': 11.552941176470592, 'rata_rata_waktu_perjalanan': 2.747794117647059, 'rata_rata_waktu_total': 42.98823529411764, 'populasi': 136, 'total_populasi': 78442}, 'State Fair': {'rata_rata_waktu_respons': 10.12, 'rata_rata_waktu_perjalanan': 2.972, 'rata_rata_waktu_total': 48.408, 'populasi': 50, 'total_populasi': 78442}, 'Joseph Berry Sub': {'rata_rata_waktu_respons': 24.133333333333333, 'rata_rata_waktu_perjalanan': 0.8111111111111112, 'rata_rata_waktu_total': 38.955555555555556, 'populasi': 18, 'total_populasi': 78442}, 'Melvern Hill': {'rata_rata_waktu_respons': 4.030434782608695, 'rata_rata_waktu_perjalanan': 0.5565217391304348, 'rata_rata_waktu_total': 25.713043478260868, 'populasi': 23, 'total_populasi': 78442}, 'Pride Area Community': {'rata_rata_waktu_respons': 7.872727272727272, 'rata_rata_waktu_perjalanan': 2.76524064171123, 'rata_rata_waktu_total': 26.441711229946527, 'populasi': 187, 'total_populasi': 78442}, 'Penrose': {'rata_rata_waktu_respons': 13.758888888888894, 'rata_rata_waktu_perjalanan': 2.758888888888889, 'rata_rata_waktu_total': 36.40777777777778, 'populasi': 90, 'total_populasi': 78442}, 'Sherwood': {'rata_rata_waktu_respons': 8.512295081967215, 'rata_rata_waktu_perjalanan': 2.499180327868853, 'rata_rata_waktu_total': 31.982786885245897, 'populasi': 122, 'total_populasi': 78442}, 'Michigan-Martin': {'rata_rata_waktu_respons': 6.525925925925925, 'rata_rata_waktu_perjalanan': 2.3296296296296295, 'rata_rata_waktu_total': 31.016666666666666, 'populasi': 54, 'total_populasi': 78442}, 'Virginia Park': {'rata_rata_waktu_respons': 6.8, 'rata_rata_waktu_perjalanan': 1.932, 'rata_rata_waktu_total': 26.287999999999993, 'populasi': 25, 'total_populasi': 78442}, 'Wildemere Park': {'rata_rata_waktu_respons': 13.463291139240509, 'rata_rata_waktu_perjalanan': 3.8696202531645567, 'rata_rata_waktu_total': 41.127848101265826, 'populasi': 79, 'total_populasi': 78442}, 'West Outer Drive': {'rata_rata_waktu_respons': 15.141935483870967, 'rata_rata_waktu_perjalanan': 5.290322580645161, 'rata_rata_waktu_total': 40.04193548387097, 'populasi': 31, 'total_populasi': 78442}, 'Grixdale Farms': {'rata_rata_waktu_respons': 15.257657657657663, 'rata_rata_waktu_perjalanan': 3.70045045045045, 'rata_rata_waktu_total': 34.69819819819821, 'populasi': 222, 'total_populasi': 78442}, 'Berg-Lahser': {'rata_rata_waktu_respons': 19.126829268292674, 'rata_rata_waktu_perjalanan': 5.023170731707317, 'rata_rata_waktu_total': 45.25243902439026, 'populasi': 164, 'total_populasi': 78442}, 'Arden Park': {'rata_rata_waktu_respons': 5.836363636363637, 'rata_rata_waktu_perjalanan': 2.2181818181818183, 'rata_rata_waktu_total': 20.145454545454545, 'populasi': 11, 'total_populasi': 78442}, 'Pingree Park': {'rata_rata_waktu_respons': 6.529629629629628, 'rata_rata_waktu_perjalanan': 3.2703703703703697, 'rata_rata_waktu_total': 37.072222222222216, 'populasi': 54, 'total_populasi': 78442}, 'Green Acres': {'rata_rata_waktu_respons': 8.527586206896553, 'rata_rata_waktu_perjalanan': 2.6666666666666674, 'rata_rata_waktu_total': 26.690804597701142, 'populasi': 87, 'total_populasi': 78442}, 'Brewster Homes': {'rata_rata_waktu_respons': 13.825396825396826, 'rata_rata_waktu_perjalanan': 5.444444444444444, 'rata_rata_waktu_total': 46.444444444444436, 'populasi': 63, 'total_populasi': 78442}, 'Tri-Point': {'rata_rata_waktu_respons': 15.229999999999999, 'rata_rata_waktu_perjalanan': 4.24, 'rata_rata_waktu_total': 47.196666666666665, 'populasi': 30, 'total_populasi': 78442}, 'Garden View': {'rata_rata_waktu_respons': 24.624175824175826, 'rata_rata_waktu_perjalanan': 2.7296703296703306, 'rata_rata_waktu_total': 52.63406593406592, 'populasi': 91, 'total_populasi': 78442}, 'Boston Edison': {'rata_rata_waktu_respons': 11.107812500000001, 'rata_rata_waktu_perjalanan': 2.9562500000000007, 'rata_rata_waktu_total': 37.978125000000006, 'populasi': 64, 'total_populasi': 78442}, 'East Canfield': {'rata_rata_waktu_respons': 11.168181818181818, 'rata_rata_waktu_perjalanan': 4.431818181818182, 'rata_rata_waktu_total': 32.07272727272727, 'populasi': 22, 'total_populasi': 78442}, 'Paveway': {'rata_rata_waktu_respons': 6.89090909090909, 'rata_rata_waktu_perjalanan': 2.4727272727272727, 'rata_rata_waktu_total': 30.719999999999995, 'populasi': 55, 'total_populasi': 78442}, 'LaSalle College Park': {'rata_rata_waktu_respons': 13.496135265700484, 'rata_rata_waktu_perjalanan': 3.368599033816424, 'rata_rata_waktu_total': 36.26956521739129, 'populasi': 207, 'total_populasi': 78442}, 'Happy Homes': {'rata_rata_waktu_respons': 6.044155844155844, 'rata_rata_waktu_perjalanan': 1.7155844155844155, 'rata_rata_waktu_total': 29.805194805194812, 'populasi': 77, 'total_populasi': 78442}, 'Gateway Community': {'rata_rata_waktu_respons': 11.476642335766421, 'rata_rata_waktu_perjalanan': 4.102189781021898, 'rata_rata_waktu_total': 32.41240875912408, 'populasi': 137, 'total_populasi': 78442}, 'Hubbard Richard': {'rata_rata_waktu_respons': 10.898305084745765, 'rata_rata_waktu_perjalanan': 2.384745762711864, 'rata_rata_waktu_total': 31.167796610169493, 'populasi': 59, 'total_populasi': 78442}, 'Seven Mile Lodge': {'rata_rata_waktu_respons': 7.747368421052631, 'rata_rata_waktu_perjalanan': 4.0210526315789465, 'rata_rata_waktu_total': 46.45526315789474, 'populasi': 38, 'total_populasi': 78442}, 'West Virginia Park': {'rata_rata_waktu_respons': 0.0, 'rata_rata_waktu_perjalanan': 0.0, 'rata_rata_waktu_total': 4.375, 'populasi': 4, 'total_populasi': 78442}, 'Greenwich': {'rata_rata_waktu_respons': 17.76875, 'rata_rata_waktu_perjalanan': 3.9524999999999997, 'rata_rata_waktu_total': 36.88125, 'populasi': 80, 'total_populasi': 78442}, 'LaSalle Gardens': {'rata_rata_waktu_respons': 14.21463414634146, 'rata_rata_waktu_perjalanan': 3.8560975609756096, 'rata_rata_waktu_total': 39.33170731707315, 'populasi': 82, 'total_populasi': 78442}, 'Old Redford': {'rata_rata_waktu_respons': 5.683783783783783, 'rata_rata_waktu_perjalanan': 1.5797297297297297, 'rata_rata_waktu_total': 18.93378378378378, 'populasi': 74, 'total_populasi': 78442}, 'Belle Isle': {'rata_rata_waktu_respons': 0.0, 'rata_rata_waktu_perjalanan': 0.0, 'rata_rata_waktu_total': 8.5, 'populasi': 3, 'total_populasi': 78442}, 'Carbon Works': {'rata_rata_waktu_respons': 5.396774193548387, 'rata_rata_waktu_perjalanan': 3.093548387096774, 'rata_rata_waktu_total': 33.78387096774193, 'populasi': 31, 'total_populasi': 78442}, 'Russell Industrial': {'rata_rata_waktu_respons': 13.643749999999999, 'rata_rata_waktu_perjalanan': 3.3625, 'rata_rata_waktu_total': 25.881249999999998, 'populasi': 16, 'total_populasi': 78442}, 'Douglass': {'rata_rata_waktu_respons': 9.3875, 'rata_rata_waktu_perjalanan': 1.175, 'rata_rata_waktu_total': 36.675, 'populasi': 8, 'total_populasi': 78442}, 'Historic Atkinson': {'rata_rata_waktu_respons': 14.216666666666665, 'rata_rata_waktu_perjalanan': 3.2222222222222223, 'rata_rata_waktu_total': 33.8, 'populasi': 18, 'total_populasi': 78442}, 'Waterworks Park': {'rata_rata_waktu_respons': 20.2, 'rata_rata_waktu_perjalanan': 3.65, 'rata_rata_waktu_total': 52.21666666666667, 'populasi': 6, 'total_populasi': 78442}}\n"
          ]
        }
      ]
    },
    {
      "cell_type": "markdown",
      "metadata": {
        "id": "xahqT6zAN83k"
      },
      "source": [
        "Bagian 3: Buat file Output JSON\n",
        "\n",
        "Menggunakan modul JSON, format list dictionary Anda sebagai JSON"
      ]
    },
    {
      "cell_type": "code",
      "source": [
        "import json\n",
        "\n",
        "# Bagian 3: Buat file Output JSON\n",
        "def simpan_file_ke_json(data_part1, data_daerah, nama_file):\n",
        "    with open(nama_file, 'w') as berkas_json:\n",
        "        json.dump({'hasil_part1': data_part1, 'rata_rata_daerah': data_daerah}, berkas_json, indent=4)\n",
        "\n",
        "# Path untuk menyimpan file JSON\n",
        "path_output_json = \"output.json\"\n",
        "\n",
        "# Simpan data ke dalam file JSON\n",
        "simpan_file_ke_json(hasil_part1, rata_rata_daerah, path_output_json)\n",
        "\n",
        "print(\"Data telah disimpan dalam file JSON:\", path_output_json)\n"
      ],
      "metadata": {
        "colab": {
          "base_uri": "https://localhost:8080/"
        },
        "id": "bHZl-tY8PfUl",
        "outputId": "d800e9f1-9f72-4435-ec3c-6a0738041963"
      },
      "execution_count": null,
      "outputs": [
        {
          "output_type": "stream",
          "name": "stdout",
          "text": [
            "Data telah disimpan dalam file JSON: output.json\n"
          ]
        }
      ]
    }
  ],
  "metadata": {
    "kernelspec": {
      "display_name": "Python 3",
      "language": "python",
      "name": "python3"
    },
    "language_info": {
      "name": "python",
      "version": "3.11.9"
    },
    "colab": {
      "provenance": []
    }
  },
  "nbformat": 4,
  "nbformat_minor": 0
}