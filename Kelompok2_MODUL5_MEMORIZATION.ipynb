{
  "nbformat": 4,
  "nbformat_minor": 0,
  "metadata": {
    "colab": {
      "provenance": []
    },
    "kernelspec": {
      "name": "python3",
      "display_name": "Python 3"
    },
    "language_info": {
      "name": "python"
    }
  },
  "cells": [
    {
      "cell_type": "code",
      "execution_count": 1,
      "metadata": {
        "colab": {
          "base_uri": "https://localhost:8080/"
        },
        "id": "_TrKV--869WX",
        "outputId": "17622596-5bd8-4961-dfbf-6186fb501ddf"
      },
      "outputs": [
        {
          "output_type": "stream",
          "name": "stdout",
          "text": [
            "Nilai Fibonacci ke- 15 yaitu: 610\n"
          ]
        }
      ],
      "source": [
        "from functools import wraps\n",
        "\n",
        "# Decorator untuk memoization\n",
        "def memoize(func):\n",
        "    memo = {}\n",
        "    @wraps(func)\n",
        "    def wrapper(n):\n",
        "        if n not in memo:\n",
        "            memo[n] = func(n)\n",
        "        return memo[n]\n",
        "    return wrapper\n",
        "\n",
        "# Fungsi rekursif Fibonacci\n",
        "@memoize\n",
        "def fibonacciku(n):\n",
        "    if n <= 1:\n",
        "        return n\n",
        "    else:\n",
        "        return fibonacciku(n-1) + fibonacciku(n-2)\n",
        "\n",
        "# Contoh penggunaan\n",
        "n = 15\n",
        "print(\"Nilai Fibonacci ke-\", n, \"yaitu:\", fibonacciku(n))\n"
      ]
    }
  ]
}