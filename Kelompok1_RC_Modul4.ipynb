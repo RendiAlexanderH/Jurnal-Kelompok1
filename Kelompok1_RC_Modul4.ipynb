{
  "nbformat": 4,
  "nbformat_minor": 0,
  "metadata": {
    "colab": {
      "provenance": []
    },
    "kernelspec": {
      "name": "python3",
      "display_name": "Python 3"
    },
    "language_info": {
      "name": "python"
    }
  },
  "cells": [
    {
      "cell_type": "code",
      "execution_count": 3,
      "metadata": {
        "colab": {
          "base_uri": "https://localhost:8080/"
        },
        "id": "f2fkIJGQhANB",
        "outputId": "66a021d6-87dc-4a40-ef62-d9d0aaef4281"
      },
      "outputs": [
        {
          "output_type": "stream",
          "name": "stdout",
          "text": [
            "[30]\n"
          ]
        }
      ],
      "source": [
        "import numpy as np  # Impor modul numpy untuk perhitungan percentil\n",
        "\n",
        "def outlier_detector(method='IQR'):\n",
        "    def detect(data):\n",
        "        if method == 'IQR':\n",
        "            # Hitung IQR\n",
        "            Q1, Q3 = np.percentile(data, [25, 75])\n",
        "            IQR = Q3 - Q1\n",
        "\n",
        "            # Tentukan batas bawah dan atas\n",
        "            lower_bound = Q1 - (1.5 * IQR)\n",
        "            upper_bound = Q3 + (1.5 * IQR)\n",
        "\n",
        "            # Kembalikan outlier\n",
        "            return [x for x in data if x < lower_bound or x > upper_bound]\n",
        "        else:\n",
        "            raise ValueError(\"Metode tidak didukung\")\n",
        "    return detect\n",
        "\n",
        "# Contoh penggunaan\n",
        "detect_outliers = outlier_detector('IQR')\n",
        "\n",
        "print(detect_outliers([2, 4, 3, 9, 5, 6, 7, 8, 30]))\n"
      ]
    }
  ]
}